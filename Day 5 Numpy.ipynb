{
 "cells": [
  {
   "cell_type": "markdown",
   "id": "57e9cf33",
   "metadata": {},
   "source": [
    "<h2><img src=\"https://www.pentagonspace.in/assets/images/logo/logo-dark.png\" alt=\"pentagonspace.com/\" align=left></h2>\n",
    "<div class=\"a\" align=right>\n",
    "    <font style=\"border:white; border-width:10px; border-style:outset;\"width=\"100\" height=\"100\" color=\"green\" > \n",
    "Class Notes </font>\n",
    "</div >\n",
    "\n",
    "<div id=\"myCarousel\" class=\"carousel slide text-center\" data-ride=\"carousel\">\n",
    "\n",
    "  <div class=\"carousel-inner\" role=\"listbox\">\n",
    "    <div class=\"item active\">\n",
    "    <h3 style=\"color: blue;\">Numpy</h3>\n",
    "    </div>\n",
    "  </div>"
   ]
  },
  {
   "cell_type": "markdown",
   "id": "72717e3b",
   "metadata": {},
   "source": [
    "# NumPy? "
   ]
  },
  {
   "cell_type": "markdown",
   "id": "2e685114",
   "metadata": {},
   "source": [
    "NumPy is a Python library used for working with arrays.  \n",
    "It also has functions for working in domain of linear algebra, fourier transform, and matrices.  \n",
    "NumPy stands for Numerical Python.  "
   ]
  },
  {
   "cell_type": "markdown",
   "id": "5db14566",
   "metadata": {},
   "source": [
    "**Installation of NumPy**  \n",
    "Install it using this command:  \n",
    ">`C:\\Users\\Your Name>pip install numpy`"
   ]
  },
  {
   "cell_type": "code",
   "execution_count": 13,
   "id": "f7a70fd8",
   "metadata": {},
   "outputs": [],
   "source": [
    "import pandas\n",
    "data = pandas.read_csv('500_Person_Gender_Height_Weight_Index.csv')"
   ]
  },
  {
   "cell_type": "code",
   "execution_count": 14,
   "id": "cfe67c34",
   "metadata": {},
   "outputs": [
    {
     "data": {
      "text/plain": [
       "Gender    0\n",
       "Height    2\n",
       "Weight    1\n",
       "Index     0\n",
       "dtype: int64"
      ]
     },
     "execution_count": 14,
     "metadata": {},
     "output_type": "execute_result"
    }
   ],
   "source": [
    "data.isna().sum()"
   ]
  },
  {
   "cell_type": "code",
   "execution_count": 15,
   "id": "8abf7a2a",
   "metadata": {},
   "outputs": [],
   "source": [
    "import numpy as np"
   ]
  },
  {
   "cell_type": "code",
   "execution_count": 19,
   "id": "11a26e98",
   "metadata": {},
   "outputs": [],
   "source": [
    "hh = np.array('dhd')"
   ]
  },
  {
   "cell_type": "code",
   "execution_count": 20,
   "id": "62354bdb",
   "metadata": {},
   "outputs": [
    {
     "data": {
      "text/plain": [
       "numpy.ndarray"
      ]
     },
     "execution_count": 20,
     "metadata": {},
     "output_type": "execute_result"
    }
   ],
   "source": [
    "type(hh)"
   ]
  },
  {
   "cell_type": "code",
   "execution_count": 21,
   "id": "8535f19d",
   "metadata": {},
   "outputs": [],
   "source": [
    "hh2 = np.array([2,3,4,5,6])"
   ]
  },
  {
   "cell_type": "code",
   "execution_count": 22,
   "id": "8c5fb3bf",
   "metadata": {},
   "outputs": [
    {
     "data": {
      "text/plain": [
       "array([2, 3, 4, 5, 6])"
      ]
     },
     "execution_count": 22,
     "metadata": {},
     "output_type": "execute_result"
    }
   ],
   "source": [
    "hh2"
   ]
  },
  {
   "cell_type": "code",
   "execution_count": 23,
   "id": "72c176d1",
   "metadata": {},
   "outputs": [
    {
     "data": {
      "text/plain": [
       "numpy.ndarray"
      ]
     },
     "execution_count": 23,
     "metadata": {},
     "output_type": "execute_result"
    }
   ],
   "source": [
    "type(hh2)"
   ]
  },
  {
   "cell_type": "code",
   "execution_count": 24,
   "id": "e8dd523b",
   "metadata": {},
   "outputs": [],
   "source": [
    "hh = np.array('dhd')"
   ]
  },
  {
   "cell_type": "code",
   "execution_count": 26,
   "id": "bd647580",
   "metadata": {},
   "outputs": [
    {
     "data": {
      "text/plain": [
       "0"
      ]
     },
     "execution_count": 26,
     "metadata": {},
     "output_type": "execute_result"
    }
   ],
   "source": [
    "hh.ndim"
   ]
  },
  {
   "cell_type": "code",
   "execution_count": 27,
   "id": "8cf814b0",
   "metadata": {},
   "outputs": [],
   "source": [
    "hh2 = np.array([2,3,4,5,6,6])"
   ]
  },
  {
   "cell_type": "code",
   "execution_count": 28,
   "id": "ba49d2a0",
   "metadata": {},
   "outputs": [
    {
     "data": {
      "text/plain": [
       "array([2, 3, 4, 5, 6, 6])"
      ]
     },
     "execution_count": 28,
     "metadata": {},
     "output_type": "execute_result"
    }
   ],
   "source": [
    "hh2"
   ]
  },
  {
   "cell_type": "code",
   "execution_count": 30,
   "id": "045d1ac6",
   "metadata": {},
   "outputs": [
    {
     "data": {
      "text/plain": [
       "1"
      ]
     },
     "execution_count": 30,
     "metadata": {},
     "output_type": "execute_result"
    }
   ],
   "source": [
    "hh2.ndim"
   ]
  },
  {
   "cell_type": "code",
   "execution_count": 33,
   "id": "23827300",
   "metadata": {},
   "outputs": [],
   "source": [
    "hh2 = np.array([[2,3,4,5],[3,4,5,56]])"
   ]
  },
  {
   "cell_type": "code",
   "execution_count": 37,
   "id": "a9ccf6aa",
   "metadata": {},
   "outputs": [],
   "source": [
    "hh3 = np.array([[[[[[[[[[[[[2,3,4,5]]]]]]]]]]]]])"
   ]
  },
  {
   "cell_type": "code",
   "execution_count": 38,
   "id": "7965240a",
   "metadata": {},
   "outputs": [
    {
     "data": {
      "text/plain": [
       "13"
      ]
     },
     "execution_count": 38,
     "metadata": {},
     "output_type": "execute_result"
    }
   ],
   "source": [
    "hh3.ndim"
   ]
  },
  {
   "cell_type": "code",
   "execution_count": 39,
   "id": "f161237a",
   "metadata": {},
   "outputs": [],
   "source": [
    "hh2 = np.array([2,3,4,5,6,6])"
   ]
  },
  {
   "cell_type": "code",
   "execution_count": 40,
   "id": "ec80cbb0",
   "metadata": {},
   "outputs": [
    {
     "data": {
      "text/plain": [
       "2"
      ]
     },
     "execution_count": 40,
     "metadata": {},
     "output_type": "execute_result"
    }
   ],
   "source": [
    "hh2[0]"
   ]
  },
  {
   "cell_type": "code",
   "execution_count": 41,
   "id": "d264fd25",
   "metadata": {},
   "outputs": [
    {
     "data": {
      "text/plain": [
       "6"
      ]
     },
     "execution_count": 41,
     "metadata": {},
     "output_type": "execute_result"
    }
   ],
   "source": [
    "hh2[-1]"
   ]
  },
  {
   "cell_type": "code",
   "execution_count": 42,
   "id": "48c49426",
   "metadata": {},
   "outputs": [],
   "source": [
    "hh2 = np.array([[2,3,4,5],[3,4,5,56]])"
   ]
  },
  {
   "cell_type": "code",
   "execution_count": 44,
   "id": "77f1f805",
   "metadata": {},
   "outputs": [
    {
     "data": {
      "text/plain": [
       "3"
      ]
     },
     "execution_count": 44,
     "metadata": {},
     "output_type": "execute_result"
    }
   ],
   "source": [
    "hh2[1][0]"
   ]
  },
  {
   "cell_type": "code",
   "execution_count": 45,
   "id": "ba5a4692",
   "metadata": {},
   "outputs": [
    {
     "data": {
      "text/plain": [
       "3"
      ]
     },
     "execution_count": 45,
     "metadata": {},
     "output_type": "execute_result"
    }
   ],
   "source": [
    "hh2[1,0]"
   ]
  },
  {
   "cell_type": "code",
   "execution_count": 59,
   "id": "79679791",
   "metadata": {},
   "outputs": [],
   "source": [
    "hh3 = np.array([[[[[2,3,3],[5,6,7],[7,8,8],[5,4,3]]]]])"
   ]
  },
  {
   "cell_type": "code",
   "execution_count": 60,
   "id": "e8746929",
   "metadata": {},
   "outputs": [
    {
     "data": {
      "text/plain": [
       "5"
      ]
     },
     "execution_count": 60,
     "metadata": {},
     "output_type": "execute_result"
    }
   ],
   "source": [
    "hh3.ndim"
   ]
  },
  {
   "cell_type": "code",
   "execution_count": 66,
   "id": "c465d2b9",
   "metadata": {},
   "outputs": [
    {
     "data": {
      "text/plain": [
       "array([7, 8, 8])"
      ]
     },
     "execution_count": 66,
     "metadata": {},
     "output_type": "execute_result"
    }
   ],
   "source": [
    "hh3[0][0][0][2]"
   ]
  },
  {
   "cell_type": "code",
   "execution_count": 53,
   "id": "d08a49ab",
   "metadata": {},
   "outputs": [
    {
     "data": {
      "text/plain": [
       "5"
      ]
     },
     "execution_count": 53,
     "metadata": {},
     "output_type": "execute_result"
    }
   ],
   "source": [
    "hh3[0,1,0]"
   ]
  },
  {
   "cell_type": "code",
   "execution_count": 54,
   "id": "b0e017d2",
   "metadata": {},
   "outputs": [
    {
     "data": {
      "text/plain": [
       "5"
      ]
     },
     "execution_count": 54,
     "metadata": {},
     "output_type": "execute_result"
    }
   ],
   "source": [
    "hh3[0][1][0]"
   ]
  },
  {
   "cell_type": "code",
   "execution_count": 67,
   "id": "697b0ec5",
   "metadata": {},
   "outputs": [],
   "source": [
    "# Slicing\n",
    "hh2 = np.array([2,3,4,5,6,6])"
   ]
  },
  {
   "cell_type": "code",
   "execution_count": 68,
   "id": "38fd6e59",
   "metadata": {},
   "outputs": [
    {
     "data": {
      "text/plain": [
       "array([2, 3, 4, 5, 6, 6])"
      ]
     },
     "execution_count": 68,
     "metadata": {},
     "output_type": "execute_result"
    }
   ],
   "source": [
    "hh2"
   ]
  },
  {
   "cell_type": "code",
   "execution_count": 69,
   "id": "665a03ea",
   "metadata": {},
   "outputs": [
    {
     "data": {
      "text/plain": [
       "array([3, 4, 5, 6])"
      ]
     },
     "execution_count": 69,
     "metadata": {},
     "output_type": "execute_result"
    }
   ],
   "source": [
    "hh2[1:4+1]"
   ]
  },
  {
   "cell_type": "code",
   "execution_count": 70,
   "id": "155705f0",
   "metadata": {},
   "outputs": [],
   "source": [
    "hh2 = np.array([[2,3,4,5],[3,4,5,56]])"
   ]
  },
  {
   "cell_type": "code",
   "execution_count": 71,
   "id": "67a9abe7",
   "metadata": {},
   "outputs": [
    {
     "data": {
      "text/plain": [
       "array([ 4,  5, 56])"
      ]
     },
     "execution_count": 71,
     "metadata": {},
     "output_type": "execute_result"
    }
   ],
   "source": [
    "hh2[1,1:]"
   ]
  },
  {
   "cell_type": "code",
   "execution_count": 73,
   "id": "779e46be",
   "metadata": {},
   "outputs": [
    {
     "data": {
      "text/plain": [
       "array([ 4,  5, 56])"
      ]
     },
     "execution_count": 73,
     "metadata": {},
     "output_type": "execute_result"
    }
   ],
   "source": [
    "hh2[1][-3:]"
   ]
  },
  {
   "cell_type": "code",
   "execution_count": 74,
   "id": "79ad1bf6",
   "metadata": {},
   "outputs": [],
   "source": [
    "hh3 = np.array([[[[[2,3,3],[5,6,7],[7,8,8],[5,4,3]]]]])"
   ]
  },
  {
   "cell_type": "code",
   "execution_count": 78,
   "id": "725be47c",
   "metadata": {},
   "outputs": [
    {
     "data": {
      "text/plain": [
       "array([[2, 3, 3],\n",
       "       [5, 6, 7]])"
      ]
     },
     "execution_count": 78,
     "metadata": {},
     "output_type": "execute_result"
    }
   ],
   "source": [
    "hh3[0,0,0,[0,1]]"
   ]
  },
  {
   "cell_type": "code",
   "execution_count": 94,
   "id": "b7cc886b",
   "metadata": {},
   "outputs": [],
   "source": [
    "hh2 = np.array([2,3,4,5,6,6],ndmin = 4)"
   ]
  },
  {
   "cell_type": "code",
   "execution_count": 95,
   "id": "86f4428c",
   "metadata": {},
   "outputs": [
    {
     "data": {
      "text/plain": [
       "array([[[[2, 3, 4, 5, 6, 6]]]])"
      ]
     },
     "execution_count": 95,
     "metadata": {},
     "output_type": "execute_result"
    }
   ],
   "source": [
    "hh2"
   ]
  },
  {
   "cell_type": "code",
   "execution_count": 96,
   "id": "69f99b03",
   "metadata": {},
   "outputs": [
    {
     "data": {
      "text/plain": [
       "4"
      ]
     },
     "execution_count": 96,
     "metadata": {},
     "output_type": "execute_result"
    }
   ],
   "source": [
    "hh2.ndim"
   ]
  },
  {
   "cell_type": "markdown",
   "id": "c02329a1",
   "metadata": {},
   "source": [
    "# Random"
   ]
  },
  {
   "cell_type": "code",
   "execution_count": 97,
   "id": "d853f73f",
   "metadata": {},
   "outputs": [],
   "source": [
    "from numpy import random"
   ]
  },
  {
   "cell_type": "code",
   "execution_count": 116,
   "id": "2c5bc76a",
   "metadata": {},
   "outputs": [],
   "source": [
    "data = random.randint(2,100)"
   ]
  },
  {
   "cell_type": "code",
   "execution_count": 117,
   "id": "2260d6cd",
   "metadata": {},
   "outputs": [
    {
     "data": {
      "text/plain": [
       "22"
      ]
     },
     "execution_count": 117,
     "metadata": {},
     "output_type": "execute_result"
    }
   ],
   "source": [
    "data"
   ]
  },
  {
   "cell_type": "code",
   "execution_count": 118,
   "id": "3b9b5435",
   "metadata": {},
   "outputs": [],
   "source": [
    "data1 = random.rand(3,4)"
   ]
  },
  {
   "cell_type": "code",
   "execution_count": 119,
   "id": "c0307989",
   "metadata": {},
   "outputs": [
    {
     "data": {
      "text/plain": [
       "array([[0.15796104, 0.42653198, 0.40290321, 0.03484284],\n",
       "       [0.55805429, 0.29358838, 0.5846011 , 0.39264752],\n",
       "       [0.97909935, 0.88703326, 0.88427273, 0.62198047]])"
      ]
     },
     "execution_count": 119,
     "metadata": {},
     "output_type": "execute_result"
    }
   ],
   "source": [
    "data1"
   ]
  },
  {
   "cell_type": "code",
   "execution_count": 129,
   "id": "298287db",
   "metadata": {},
   "outputs": [],
   "source": [
    "kk = [2,3,4,5,5]\n",
    "h = random.choice(kk,size = (3,4))"
   ]
  },
  {
   "cell_type": "code",
   "execution_count": 130,
   "id": "fc63d417",
   "metadata": {},
   "outputs": [
    {
     "data": {
      "text/plain": [
       "array([[5, 5, 5, 5],\n",
       "       [5, 2, 3, 4],\n",
       "       [4, 4, 4, 3]])"
      ]
     },
     "execution_count": 130,
     "metadata": {},
     "output_type": "execute_result"
    }
   ],
   "source": [
    "h"
   ]
  },
  {
   "cell_type": "markdown",
   "id": "6a970328",
   "metadata": {},
   "source": [
    "# Seaborn"
   ]
  },
  {
   "cell_type": "code",
   "execution_count": 131,
   "id": "6d898905",
   "metadata": {},
   "outputs": [],
   "source": [
    "import seaborn as sns"
   ]
  },
  {
   "cell_type": "code",
   "execution_count": 135,
   "id": "a1dfb6fd",
   "metadata": {},
   "outputs": [
    {
     "name": "stderr",
     "output_type": "stream",
     "text": [
      "C:\\Users\\User\\anaconda3\\lib\\site-packages\\seaborn\\distributions.py:2619: FutureWarning: `distplot` is a deprecated function and will be removed in a future version. Please adapt your code to use either `displot` (a figure-level function with similar flexibility) or `kdeplot` (an axes-level function for kernel density plots).\n",
      "  warnings.warn(msg, FutureWarning)\n"
     ]
    },
    {
     "data": {
      "text/plain": [
       "<AxesSubplot:ylabel='Density'>"
      ]
     },
     "execution_count": 135,
     "metadata": {},
     "output_type": "execute_result"
    },
    {
     "data": {
      "image/png": "[encoded data removed]",
      "text/plain": [
       "<Figure size 432x288 with 1 Axes>"
      ]
     },
     "metadata": {
      "needs_background": "light"
     },
     "output_type": "display_data"
    }
   ],
   "source": [
    "kk = [2,3,4,5,5]\n",
    "sns.distplot(kk,hist = False)"
   ]
  },
  {
   "cell_type": "code",
   "execution_count": 134,
   "id": "1a9bb6db",
   "metadata": {},
   "outputs": [
    {
     "data": {
      "text/plain": [
       "3.8"
      ]
     },
     "execution_count": 134,
     "metadata": {},
     "output_type": "execute_result"
    }
   ],
   "source": [
    "sum(kk)/len(kk)"
   ]
  },
  {
   "cell_type": "code",
   "execution_count": null,
   "id": "563c4066",
   "metadata": {},
   "outputs": [],
   "source": []
  }
 ],
 "metadata": {
  "kernelspec": {
   "display_name": "Python 3 (ipykernel)",
   "language": "python",
   "name": "python3"
  },
  "language_info": {
   "codemirror_mode": {
    "name": "ipython",
    "version": 3
   },
   "file_extension": ".py",
   "mimetype": "text/x-python",
   "name": "python",
   "nbconvert_exporter": "python",
   "pygments_lexer": "ipython3",
   "version": "3.8.11"
  }
 },
 "nbformat": 4,
 "nbformat_minor": 5
}
