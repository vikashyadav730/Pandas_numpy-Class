{
 "cells": [
  {
   "cell_type": "markdown",
   "id": "5da6b4a2",
   "metadata": {},
   "source": [
    "<h2><img src=\"https://www.pentagonspace.in/assets/images/logo/logo-dark.png\" alt=\"pentagonspace.com/\" align=left></h2>\n",
    "<div class=\"a\" align=right>\n",
    "    <font style=\"border:white; border-width:10px; border-style:outset;\"width=\"100\" height=\"100\" color=\"green\" > \n",
    "Class Notes </font>\n",
    "</div >\n",
    "\n",
    "<div id=\"myCarousel\" class=\"carousel slide text-center\" data-ride=\"carousel\">\n",
    "\n",
    "  <div class=\"carousel-inner\" role=\"listbox\">\n",
    "    <div class=\"item active\">\n",
    "    <h3 style=\"color: blue;\">Series(Pandas)</h3>\n",
    "    </div>\n",
    "  </div>"
   ]
  },
  {
   "cell_type": "markdown",
   "id": "6184bf3b",
   "metadata": {},
   "source": [
    "**What is Pandas?**  \n",
    "**1** Pandas is a Python library used for working with data sets.  \n",
    "**2** It has functions for analyzing, cleaning, exploring, and manipulating data."
   ]
  },
  {
   "cell_type": "markdown",
   "id": "042c88a8",
   "metadata": {},
   "source": [
    "**Why Use Pandas?**  \n",
    "**1** Pandas allows us to analyze big data and make conclusions based on statistical theories.  \n",
    "**2** Pandas can clean messy data sets, and make them readable and relevant.  "
   ]
  },
  {
   "cell_type": "markdown",
   "id": "1bccc8e7",
   "metadata": {},
   "source": [
    "**Installation of Pandas**  \n",
    "If you have Python and PIP already installed on a system, then installation of Pandas is very easy.  \n",
    "Install it using this command:  \n",
    ">`C:\\Users\\Your Name>pip install pandas`"
   ]
  },
  {
   "cell_type": "markdown",
   "id": "2b087f54",
   "metadata": {},
   "source": [
    "# `Series`"
   ]
  },
  {
   "cell_type": "markdown",
   "id": "02575ea3",
   "metadata": {},
   "source": [
    "**→** A Pandas Series is like a column in a table.  \n",
    "**→** It is a one-dimensional array holding data of any type."
   ]
  },
  {
   "cell_type": "code",
   "execution_count": 5,
   "id": "6dbfdf6d",
   "metadata": {},
   "outputs": [
    {
     "data": {
      "text/plain": [
       "29.427877939124322"
      ]
     },
     "execution_count": 5,
     "metadata": {},
     "output_type": "execute_result"
    }
   ],
   "source": [
    "import pandas as pd\n",
    "kk = [2,3,4,5,6,76]\n",
    "dd = pd.Series(kk)\n",
    "dd.std()"
   ]
  },
  {
   "cell_type": "code",
   "execution_count": 10,
   "id": "a2d4dc77",
   "metadata": {},
   "outputs": [
    {
     "data": {
      "text/plain": [
       "dtype('int64')"
      ]
     },
     "execution_count": 10,
     "metadata": {},
     "output_type": "execute_result"
    }
   ],
   "source": [
    "# type(dd)\n",
    "dd.dtype"
   ]
  },
  {
   "cell_type": "markdown",
   "id": "d1e7ffc4",
   "metadata": {},
   "source": [
    "**`Parameter & Description`**  \n",
    "1.**data**  \n",
    ">data takes various forms like ndarray, list, constants  \n",
    "\n",
    "2.**index**  \n",
    ">Index values must be unique and hashable, same length as data. Default np.arrange(n) if no index is passed.  \n",
    "\n",
    "3.**dtype**  \n",
    ">dtype is for data type. If None, data type will be inferred  \n"
   ]
  },
  {
   "cell_type": "code",
   "execution_count": null,
   "id": "2c8b2c64",
   "metadata": {},
   "outputs": [],
   "source": []
  }
 ],
 "metadata": {
  "kernelspec": {
   "display_name": "Python 3 (ipykernel)",
   "language": "python",
   "name": "python3"
  },
  "language_info": {
   "codemirror_mode": {
    "name": "ipython",
    "version": 3
   },
   "file_extension": ".py",
   "mimetype": "text/x-python",
   "name": "python",
   "nbconvert_exporter": "python",
   "pygments_lexer": "ipython3",
   "version": "3.8.11"
  }
 },
 "nbformat": 4,
 "nbformat_minor": 5
}
