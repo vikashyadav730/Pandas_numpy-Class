{
 "cells": [
  {
   "cell_type": "markdown",
   "id": "5da6b4a2",
   "metadata": {},
   "source": [
    "\n",
    "\n",
    "<div id=\"myCarousel\" class=\"carousel slide text-center\" data-ride=\"carousel\">\n",
    "\n",
    "  <div class=\"carousel-inner\" role=\"listbox\">\n",
    "    <div class=\"item active\">\n",
    "    <h3 style=\"color: blue;\">Pandas</h3>\n",
    "    </div>\n",
    "  </div>"
   ]
  },
  {
   "cell_type": "markdown",
   "id": "6184bf3b",
   "metadata": {},
   "source": [
    "**What is Pandas?**  \n",
    "**1** Pandas is a Python library used for working with data sets.  \n",
    "**2** It has functions for analyzing, cleaning, exploring, and manipulating data."
   ]
  },
  {
   "cell_type": "markdown",
   "id": "042c88a8",
   "metadata": {},
   "source": [
    "**Why Use Pandas?**  \n",
    "**1** Pandas allows us to analyze big data and make conclusions based on statistical theories.  \n",
    "**2** Pandas can clean messy data sets, and make them readable and relevant.  "
   ]
  },
  {
   "cell_type": "markdown",
   "id": "1bccc8e7",
   "metadata": {},
   "source": [
    "**Installation of Pandas**  \n",
    "If you have Python and PIP already installed on a system, then installation of Pandas is very easy.  \n",
    "Install it using this command:  \n",
    ">`C:\\Users\\Your Name>pip install pandas`"
   ]
  },
  {
   "cell_type": "markdown",
   "id": "2b087f54",
   "metadata": {},
   "source": [
    "# `Series`"
   ]
  },
  {
   "cell_type": "markdown",
   "id": "02575ea3",
   "metadata": {},
   "source": [
    "**→** A Pandas Series is like a column in a table.  \n",
    "**→** It is a one-dimensional array holding data of any type."
   ]
  },
  {
   "cell_type": "markdown",
   "id": "d1e7ffc4",
   "metadata": {},
   "source": [
    "**`Parameter & Description`**  \n",
    "1.**data**  \n",
    ">data takes various forms like ndarray, list, constants  \n",
    "\n",
    "2.**index**  \n",
    ">Index values must be unique and hashable, same length as data. Default np.arrange(n) if no index is passed.  \n",
    "\n",
    "3.**dtype**  \n",
    ">dtype is for data type. If None, data type will be inferred  \n"
   ]
  },
  {
   "cell_type": "code",
   "execution_count": null,
   "id": "2c8b2c64",
   "metadata": {},
   "outputs": [],
   "source": []
  },
  {
   "cell_type": "code",
   "execution_count": 1,
   "id": "8a19689b",
   "metadata": {},
   "outputs": [],
   "source": [
    "import pandas as pd"
   ]
  },
  {
   "cell_type": "code",
   "execution_count": 2,
   "id": "1b699951",
   "metadata": {},
   "outputs": [
    {
     "name": "stderr",
     "output_type": "stream",
     "text": [
      "C:\\Users\\User\\AppData\\Local\\Temp/ipykernel_17072/17323316.py:1: DeprecationWarning: The default dtype for empty Series will be 'object' instead of 'float64' in a future version. Specify a dtype explicitly to silence this warning.\n",
      "  data = pd.Series()\n"
     ]
    },
    {
     "data": {
      "text/plain": [
       "Series([], dtype: float64)"
      ]
     },
     "execution_count": 2,
     "metadata": {},
     "output_type": "execute_result"
    }
   ],
   "source": [
    "data = pd.Series()\n",
    "data"
   ]
  },
  {
   "cell_type": "code",
   "execution_count": 3,
   "id": "7926df0e",
   "metadata": {},
   "outputs": [],
   "source": [
    "kk = [3,5,6,7,23,4]\n",
    "data = pd.Series(kk)"
   ]
  },
  {
   "cell_type": "code",
   "execution_count": 4,
   "id": "9e9b60ec",
   "metadata": {},
   "outputs": [
    {
     "data": {
      "text/plain": [
       "0     3\n",
       "1     5\n",
       "2     6\n",
       "3     7\n",
       "4    23\n",
       "5     4\n",
       "dtype: int64"
      ]
     },
     "execution_count": 4,
     "metadata": {},
     "output_type": "execute_result"
    }
   ],
   "source": [
    "data"
   ]
  },
  {
   "cell_type": "code",
   "execution_count": 11,
   "id": "5750fc67",
   "metadata": {},
   "outputs": [
    {
     "data": {
      "text/plain": [
       "pandas.core.series.Series"
      ]
     },
     "execution_count": 11,
     "metadata": {},
     "output_type": "execute_result"
    }
   ],
   "source": [
    "type(data)"
   ]
  },
  {
   "cell_type": "code",
   "execution_count": 5,
   "id": "6595cac1",
   "metadata": {},
   "outputs": [],
   "source": [
    "kk = (3,5,6,7,'dd',4)\n",
    "data = pd.Series(kk,index = [2,'l','e','t','w','s'])"
   ]
  },
  {
   "cell_type": "code",
   "execution_count": 7,
   "id": "e34a0dae",
   "metadata": {},
   "outputs": [
    {
     "data": {
      "text/plain": [
       "2     3\n",
       "l     5\n",
       "e     6\n",
       "t     7\n",
       "w    dd\n",
       "s     4\n",
       "dtype: object"
      ]
     },
     "execution_count": 7,
     "metadata": {},
     "output_type": "execute_result"
    }
   ],
   "source": [
    "data"
   ]
  },
  {
   "cell_type": "code",
   "execution_count": 12,
   "id": "f06528ee",
   "metadata": {},
   "outputs": [],
   "source": [
    "dd = {'A':12,'B':34,'C':45,'D':56}\n",
    "dataset = pd.Series(dd,index = ['A',2,3,4])"
   ]
  },
  {
   "cell_type": "code",
   "execution_count": 13,
   "id": "2362b0d4",
   "metadata": {},
   "outputs": [
    {
     "data": {
      "text/plain": [
       "A    12.0\n",
       "2     NaN\n",
       "3     NaN\n",
       "4     NaN\n",
       "dtype: float64"
      ]
     },
     "execution_count": 13,
     "metadata": {},
     "output_type": "execute_result"
    }
   ],
   "source": [
    "dataset"
   ]
  },
  {
   "cell_type": "code",
   "execution_count": 14,
   "id": "08d9ebc6",
   "metadata": {},
   "outputs": [],
   "source": [
    "kk = (3,5,6,7,34.4,4)\n",
    "data = pd.Series(kk,index = ['a','l','e','t','w','s'])"
   ]
  },
  {
   "cell_type": "code",
   "execution_count": 15,
   "id": "e2e2e88c",
   "metadata": {},
   "outputs": [
    {
     "data": {
      "text/plain": [
       "a     3.0\n",
       "l     5.0\n",
       "e     6.0\n",
       "t     7.0\n",
       "w    34.4\n",
       "s     4.0\n",
       "dtype: float64"
      ]
     },
     "execution_count": 15,
     "metadata": {},
     "output_type": "execute_result"
    }
   ],
   "source": [
    "data"
   ]
  },
  {
   "cell_type": "code",
   "execution_count": 19,
   "id": "979eca23",
   "metadata": {},
   "outputs": [
    {
     "data": {
      "text/plain": [
       "5.0"
      ]
     },
     "execution_count": 19,
     "metadata": {},
     "output_type": "execute_result"
    }
   ],
   "source": [
    "data['l']"
   ]
  },
  {
   "cell_type": "code",
   "execution_count": 43,
   "id": "a141ca35",
   "metadata": {},
   "outputs": [
    {
     "data": {
      "text/plain": [
       "34.4"
      ]
     },
     "execution_count": 43,
     "metadata": {},
     "output_type": "execute_result"
    }
   ],
   "source": [
    "data['w']"
   ]
  },
  {
   "cell_type": "code",
   "execution_count": 20,
   "id": "63a3219a",
   "metadata": {},
   "outputs": [],
   "source": [
    "dd = {'A':12,'B':34,'C':45,'D':56}\n",
    "dataset = pd.Series(dd,index = ['D','A','C','B'])"
   ]
  },
  {
   "cell_type": "code",
   "execution_count": 23,
   "id": "590c55d9",
   "metadata": {},
   "outputs": [
    {
     "data": {
      "text/plain": [
       "56"
      ]
     },
     "execution_count": 23,
     "metadata": {},
     "output_type": "execute_result"
    }
   ],
   "source": [
    "dataset['D']"
   ]
  },
  {
   "cell_type": "code",
   "execution_count": 50,
   "id": "9a44f8b7",
   "metadata": {},
   "outputs": [
    {
     "data": {
      "text/plain": [
       "D    56\n",
       "A    12\n",
       "dtype: int64"
      ]
     },
     "execution_count": 50,
     "metadata": {},
     "output_type": "execute_result"
    }
   ],
   "source": [
    "dataset[['D','A']]"
   ]
  },
  {
   "cell_type": "code",
   "execution_count": 51,
   "id": "b192b489",
   "metadata": {},
   "outputs": [],
   "source": [
    "k = [[1,2,3,43,4,4]]\n",
    "d1 = pd.Series(k)"
   ]
  },
  {
   "cell_type": "code",
   "execution_count": 52,
   "id": "158d7ace",
   "metadata": {},
   "outputs": [
    {
     "data": {
      "text/plain": [
       "0    [1, 2, 3, 43, 4, 4]\n",
       "dtype: object"
      ]
     },
     "execution_count": 52,
     "metadata": {},
     "output_type": "execute_result"
    }
   ],
   "source": [
    "d1"
   ]
  },
  {
   "cell_type": "code",
   "execution_count": 53,
   "id": "d11a8e7b",
   "metadata": {},
   "outputs": [
    {
     "data": {
      "text/plain": [
       "D    56\n",
       "A    12\n",
       "C    45\n",
       "B    34\n",
       "dtype: int64"
      ]
     },
     "execution_count": 53,
     "metadata": {},
     "output_type": "execute_result"
    }
   ],
   "source": [
    "dataset"
   ]
  },
  {
   "cell_type": "code",
   "execution_count": 24,
   "id": "d00058e8",
   "metadata": {},
   "outputs": [
    {
     "data": {
      "text/plain": [
       "A    12\n",
       "C    45\n",
       "dtype: int64"
      ]
     },
     "execution_count": 24,
     "metadata": {},
     "output_type": "execute_result"
    }
   ],
   "source": [
    "dataset[1:3]"
   ]
  },
  {
   "cell_type": "code",
   "execution_count": 57,
   "id": "9ab6b405",
   "metadata": {},
   "outputs": [
    {
     "data": {
      "text/plain": [
       "A    12\n",
       "C    45\n",
       "B    34\n",
       "dtype: int64"
      ]
     },
     "execution_count": 57,
     "metadata": {},
     "output_type": "execute_result"
    }
   ],
   "source": [
    "dataset[-3:]"
   ]
  },
  {
   "cell_type": "code",
   "execution_count": 25,
   "id": "5581e112",
   "metadata": {},
   "outputs": [
    {
     "data": {
      "text/plain": [
       "A    12\n",
       "B    34\n",
       "dtype: int64"
      ]
     },
     "execution_count": 25,
     "metadata": {},
     "output_type": "execute_result"
    }
   ],
   "source": [
    "dataset[1::2]"
   ]
  },
  {
   "cell_type": "code",
   "execution_count": 62,
   "id": "2ce03bfd",
   "metadata": {},
   "outputs": [
    {
     "data": {
      "text/plain": [
       "56"
      ]
     },
     "execution_count": 62,
     "metadata": {},
     "output_type": "execute_result"
    }
   ],
   "source": [
    "dataset.max()"
   ]
  },
  {
   "cell_type": "code",
   "execution_count": 63,
   "id": "58cc281f",
   "metadata": {},
   "outputs": [
    {
     "data": {
      "text/plain": [
       "12"
      ]
     },
     "execution_count": 63,
     "metadata": {},
     "output_type": "execute_result"
    }
   ],
   "source": [
    "dataset.min()"
   ]
  },
  {
   "cell_type": "code",
   "execution_count": 64,
   "id": "b85c38be",
   "metadata": {},
   "outputs": [
    {
     "data": {
      "text/plain": [
       "36.75"
      ]
     },
     "execution_count": 64,
     "metadata": {},
     "output_type": "execute_result"
    }
   ],
   "source": [
    "dataset.mean()"
   ]
  },
  {
   "cell_type": "code",
   "execution_count": 65,
   "id": "af75c977",
   "metadata": {},
   "outputs": [
    {
     "data": {
      "text/plain": [
       "18.786076404259266"
      ]
     },
     "execution_count": 65,
     "metadata": {},
     "output_type": "execute_result"
    }
   ],
   "source": [
    "dataset.std()"
   ]
  },
  {
   "cell_type": "code",
   "execution_count": 26,
   "id": "349426e7",
   "metadata": {},
   "outputs": [
    {
     "data": {
      "text/plain": [
       "Index(['D', 'A', 'C', 'B'], dtype='object')"
      ]
     },
     "execution_count": 26,
     "metadata": {},
     "output_type": "execute_result"
    }
   ],
   "source": [
    "dataset.index"
   ]
  },
  {
   "cell_type": "code",
   "execution_count": 30,
   "id": "a9df0a82",
   "metadata": {},
   "outputs": [],
   "source": [
    "dataset = dataset.astype('object')"
   ]
  },
  {
   "cell_type": "code",
   "execution_count": 31,
   "id": "bd5b167a",
   "metadata": {},
   "outputs": [
    {
     "data": {
      "text/plain": [
       "D    56\n",
       "A    12\n",
       "C    45\n",
       "B    34\n",
       "dtype: object"
      ]
     },
     "execution_count": 31,
     "metadata": {},
     "output_type": "execute_result"
    }
   ],
   "source": [
    "dataset"
   ]
  },
  {
   "cell_type": "code",
   "execution_count": null,
   "id": "096189ce",
   "metadata": {},
   "outputs": [],
   "source": []
  }
 ],
 "metadata": {
  "kernelspec": {
   "display_name": "Python 3 (ipykernel)",
   "language": "python",
   "name": "python3"
  },
  "language_info": {
   "codemirror_mode": {
    "name": "ipython",
    "version": 3
   },
   "file_extension": ".py",
   "mimetype": "text/x-python",
   "name": "python",
   "nbconvert_exporter": "python",
   "pygments_lexer": "ipython3",
   "version": "3.8.11"
  }
 },
 "nbformat": 4,
 "nbformat_minor": 5
}
